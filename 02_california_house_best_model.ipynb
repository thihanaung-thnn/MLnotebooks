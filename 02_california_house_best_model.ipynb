{
  "nbformat": 4,
  "nbformat_minor": 0,
  "metadata": {
    "colab": {
      "name": "02_california_house_best_model.ipynb",
      "provenance": [],
      "authorship_tag": "ABX9TyNMGcnCI3AwIXC5xUrByogr",
      "include_colab_link": true
    },
    "kernelspec": {
      "name": "python3",
      "display_name": "Python 3"
    },
    "language_info": {
      "name": "python"
    }
  },
  "cells": [
    {
      "cell_type": "markdown",
      "metadata": {
        "id": "view-in-github",
        "colab_type": "text"
      },
      "source": [
        "<a href=\"https://colab.research.google.com/github/thihanaung-thnn/MLnotebooks/blob/main/02_california_house_best_model.ipynb\" target=\"_parent\"><img src=\"https://colab.research.google.com/assets/colab-badge.svg\" alt=\"Open In Colab\"/></a>"
      ]
    },
    {
      "cell_type": "markdown",
      "source": [
        "This is the continuation from [this notebook](https://nbviewer.org/github/thihanaung-thnn/MLnotebooks/blob/main/01_california_house_lr_only.ipynb). "
      ],
      "metadata": {
        "id": "BoCkXcgtMRyW"
      }
    },
    {
      "cell_type": "code",
      "source": [
        "import pandas as pd \n",
        "import numpy as np\n",
        "import matplotlib.pyplot as plt \n",
        "from sklearn.model_selection import GridSearchCV, RandomizedSearchCV\n",
        "from sklearn.linear_model import ElasticNet\n",
        "from sklearn.ensemble import RandomForestRegressor\n",
        "from sklearn.tree import DecisionTreeRegressor\n",
        "from sklearn.neighbors import KNeighborsRegressor\n",
        "from sklearn.svm import SVR \n",
        "from sklearn.linear_model import LassoCV, LinearRegression\n",
        "from sklearn.ensemble import StackingRegressor, GradientBoostingRegressor\n",
        "from sklearn.model_selection import cross_val_score\n",
        "from sklearn.preprocessing import StandardScaler\n",
        "from sklearn.metrics import mean_squared_error\n",
        "import warnings \n",
        "warnings.filterwarnings('ignore')"
      ],
      "metadata": {
        "id": "TN_cGAPVMvOX"
      },
      "execution_count": 1,
      "outputs": []
    },
    {
      "cell_type": "code",
      "execution_count": 2,
      "metadata": {
        "id": "hI3foMj8L7Dg"
      },
      "outputs": [],
      "source": [
        "train_data = pd.read_csv('/content/sample_data/california_housing_train.csv')\n",
        "test_data = pd.read_csv('/content/sample_data/california_housing_test.csv')"
      ]
    },
    {
      "cell_type": "code",
      "source": [
        "sj_coord = [37.3382, -121.8863]\n",
        "la_coord = [34.0522, -118.2437]\n",
        "tj_coord = [32.5149, -117.0382]\n",
        "def calculate_distances(df):\n",
        "    distances = pd.DataFrame()\n",
        "    distances['distance_from_sj'] = np.sqrt((df['latitude']-sj_coord[0])**2 + (df['longitude']-sj_coord[1])**2)\n",
        "    distances['distance_from_la'] = np.sqrt((df['latitude']-la_coord[0])**2 + (df['longitude']-la_coord[1])**2)\n",
        "    distances['distance_from_tj'] = np.sqrt((df['latitude']-tj_coord[0])**2 + (df['longitude']-tj_coord[1])**2)\n",
        "    return distances\n",
        "\n",
        "def log_transform(df):\n",
        "    log_df = pd.DataFrame()\n",
        "    columns = ['total_rooms','total_bedrooms', 'population', 'households', 'median_income']\n",
        "    for col in columns:\n",
        "        log_df[col] = np.log(df[col])\n",
        "    return log_df\n",
        "\n",
        "def feature_engineering(df):\n",
        "    feature_df = pd.DataFrame()\n",
        "    feature_df['rooms_per_bedrooms'] = df['total_rooms']/df['total_bedrooms']\n",
        "    feature_df['rooms_per_pop'] = df['total_rooms']/df['population']\n",
        "    feature_df['households_per_income'] = df['households']/df['median_income']\n",
        "    return feature_df\n",
        "\n",
        "def preprocessing(df):\n",
        "    distance_df = calculate_distances(df)\n",
        "    log_df = log_transform(df)\n",
        "    feature_eng_df = feature_engineering(df)\n",
        "    combined_df = pd.concat([df, distance_df, log_df, feature_eng_df], axis=1)\n",
        "    X = combined_df.drop('median_house_value', axis=1)\n",
        "    y = combined_df['median_house_value']\n",
        "    return X, y "
      ],
      "metadata": {
        "id": "yO8BUx3OM14r"
      },
      "execution_count": 3,
      "outputs": []
    },
    {
      "cell_type": "code",
      "source": [
        "X_train_orig, y_train_orig = preprocessing(train_data)\n",
        "X_test_orig, y_test_orig = preprocessing(test_data)\n",
        "\n",
        "# Scaling \n",
        "scaler = StandardScaler()\n",
        "X_train_scaled = scaler.fit_transform(X_train_orig)\n",
        "X_test_scaled = scaler.transform(X_test_orig)"
      ],
      "metadata": {
        "id": "QRSCx4OGOqSQ"
      },
      "execution_count": 4,
      "outputs": []
    },
    {
      "cell_type": "code",
      "source": [
        "# def stacking_regressors():# just want to test, it will take too long\n",
        "#     base_regs = []\n",
        "#     base_regs.append(('cart', DecisionTreeRegressor()))\n",
        "#     base_regs.append(('svr', SVR()))\n",
        "#     base_regs.append(('knn', KNeighborsRegressor()))\n",
        "#     base_regs.append(('lasso', LassoCV()))\n",
        "#     final_reg = RandomForestRegressor()\n",
        "#     stack_reg = StackingRegressor(estimators=base_regs, final_estimator=final_reg, cv=5)\n",
        "#     return stack_reg\n",
        "\n",
        "def model_list():\n",
        "    models = {}\n",
        "    models['SVR'] = SVR()\n",
        "    models['ElasticNet'] = ElasticNet() # actually elasticnet tends to become Lasso\n",
        "    models['KNeighbors'] = KNeighborsRegressor()\n",
        "    models['Random Forest'] = RandomForestRegressor()\n",
        "    models['Gradient Boosting'] = GradientBoostingRegressor()\n",
        "    models['Decision Tree'] = DecisionTreeRegressor()\n",
        "    # models['Stacked Regressor'] = stacking_regressors()\n",
        "    return models\n",
        "\n",
        "def model_evaluation(model, X, y):\n",
        "    kf = RepeatedKFold(n_splits=10, n_repeats=3, random_state=123)\n",
        "    scores = cross_val_score(model, X, y, scoring='neg_mean_squared_error', n_jobs=-1, cv=kf)\n",
        "    return scores"
      ],
      "metadata": {
        "id": "bQQEM1FAgnrf"
      },
      "execution_count": 80,
      "outputs": []
    },
    {
      "cell_type": "code",
      "source": [
        "# finding best models with default parameters\n",
        "scores, model_names = [], []\n",
        "models = model_list()\n",
        "for name, model in models.items():\n",
        "    score = model_evaluation(model, X_train_scaled, y_train_orig)\n",
        "    rmse = np.sqrt(-score)\n",
        "    model_names.append(name)\n",
        "    scores.append(rmse)\n",
        "    print(f'{name}')\n",
        "    print(f'Mean RMSE : {np.mean(rmse):.2f}')\n",
        "    print(f'Std RMSE  : {np.std(rmse):.2f}')\n",
        "    print('-'*20)"
      ],
      "metadata": {
        "colab": {
          "base_uri": "https://localhost:8080/"
        },
        "id": "nMTR5gR0m4p9",
        "outputId": "505d21f9-1d37-4485-cb13-7670f2aa5a63"
      },
      "execution_count": 81,
      "outputs": [
        {
          "output_type": "stream",
          "name": "stdout",
          "text": [
            "SVR\n",
            "Mean RMSE : 118742.47\n",
            "Std RMSE  : 2557.30\n",
            "--------------------\n",
            "ElasticNet\n",
            "Mean RMSE : 78367.57\n",
            "Std RMSE  : 2007.79\n",
            "--------------------\n",
            "KNeighbors\n",
            "Mean RMSE : 61597.63\n",
            "Std RMSE  : 1745.79\n",
            "--------------------\n",
            "Random Forest\n",
            "Mean RMSE : 46210.76\n",
            "Std RMSE  : 1438.38\n",
            "--------------------\n",
            "Gradient Boosting\n",
            "Mean RMSE : 52064.82\n",
            "Std RMSE  : 1563.66\n",
            "--------------------\n",
            "Decision Tree\n",
            "Mean RMSE : 64575.42\n",
            "Std RMSE  : 2344.90\n",
            "--------------------\n",
            "Stacked Regressor\n",
            "Mean RMSE : 57529.14\n",
            "Std RMSE  : 1516.00\n",
            "--------------------\n"
          ]
        }
      ]
    },
    {
      "cell_type": "code",
      "source": [
        "plt.figure(figsize=(12,8))\n",
        "plt.boxplot(scores[1:], labels=model_names[1:], showmeans=True)\n",
        "plt.title('Comparing the RMSE scores of different models');"
      ],
      "metadata": {
        "colab": {
          "base_uri": "https://localhost:8080/",
          "height": 483
        },
        "id": "SDR0KXMObjbl",
        "outputId": "93648e14-a351-411f-9bfc-11e3481e7253"
      },
      "execution_count": 85,
      "outputs": [
        {
          "output_type": "display_data",
          "data": {
            "image/png": "[encoded data removed]",
            "text/plain": [
              "<Figure size 864x576 with 1 Axes>"
            ]
          },
          "metadata": {
            "needs_background": "light"
          }
        }
      ]
    },
    {
      "cell_type": "markdown",
      "source": [
        "I left the SVR as its errors are high. I think SVR needs hyperparameter tuning. For this dataset, Random Forest may be the best model. "
      ],
      "metadata": {
        "id": "c8HUBq8n6N5U"
      }
    },
    {
      "cell_type": "code",
      "source": [
        "model = RandomForestRegressor(random_state=123)\n",
        "grid_params = dict(\n",
        "    n_estimators=[20, 50, 100, 128], \n",
        "    max_depth=[10,15,20, None],\n",
        "    max_features=[5, 15],\n",
        "    bootstrap=[True, False]\n",
        "\n",
        "    )\n",
        "rf_best = GridSearchCV(model, grid_params, cv=3, n_jobs=-1, scoring='neg_mean_squared_error', verbose=2)\n",
        "rf_best.fit(X_train_scaled, y_train_orig)"
      ],
      "metadata": {
        "colab": {
          "base_uri": "https://localhost:8080/"
        },
        "id": "e0EyJeWx6ATY",
        "outputId": "3429b167-dfc9-4753-e36d-9ff4ebd5fc20"
      },
      "execution_count": 113,
      "outputs": [
        {
          "output_type": "stream",
          "name": "stdout",
          "text": [
            "Fitting 3 folds for each of 64 candidates, totalling 192 fits\n"
          ]
        },
        {
          "output_type": "execute_result",
          "data": {
            "text/plain": [
              "GridSearchCV(cv=3, estimator=RandomForestRegressor(random_state=123), n_jobs=-1,\n",
              "             param_grid={'bootstrap': [True, False],\n",
              "                         'max_depth': [10, 15, 20, None],\n",
              "                         'max_features': [5, 15],\n",
              "                         'n_estimators': [20, 50, 100, 128]},\n",
              "             scoring='neg_mean_squared_error', verbose=2)"
            ]
          },
          "metadata": {},
          "execution_count": 113
        }
      ]
    },
    {
      "cell_type": "code",
      "source": [
        "y_pred = rf_best.best_estimator_.predict(X_test_scaled)\n",
        "errors = abs(y_pred - y_test_orig)\n",
        "mape = 100 - np.mean(100*(errors/y_test_orig))\n",
        "\n",
        "print(f'Best Hyperparameters : {rf_best.best_params_}')\n",
        "print(f'Test data RMSE       : {np.sqrt(mean_squared_error(y_test_orig, y_pred))}')\n",
        "print(f'Accuracy test data   : {mape:.2f}%')"
      ],
      "metadata": {
        "colab": {
          "base_uri": "https://localhost:8080/"
        },
        "id": "qG5qNxas8W6O",
        "outputId": "ebe9d4ab-7b4d-4ca0-a2cb-887f9d3b6f0f"
      },
      "execution_count": 125,
      "outputs": [
        {
          "output_type": "stream",
          "name": "stdout",
          "text": [
            "Best Hyperparameters : {'bootstrap': True, 'max_depth': 15, 'max_features': 15, 'n_estimators': 20}\n",
            "Test data RMSE       : 48463.0943214638\n",
            "Accuracy test data   : 83.05%\n"
          ]
        }
      ]
    },
    {
      "cell_type": "code",
      "source": [
        "from sklearn.model_selection import RandomizedSearchCV\n",
        "model = RandomForestRegressor()\n",
        "grid_params = dict(\n",
        "    n_estimators=[int(x) for x in np.linspace(30,200, 4)],\n",
        "    max_depth=[int(x) for x in np.linspace(5,30,3)],\n",
        "    max_features=['auto', 'sqrt'],\n",
        "    min_samples_split=[5,15]\n",
        ")\n",
        "rf_random = RandomizedSearchCV(model, grid_params, cv=3, verbose=2,\n",
        "                               scoring='neg_mean_squared_error', n_jobs=-1)\n",
        "rf_random.fit(X_train_scaled, y_train_orig)\n"
      ],
      "metadata": {
        "colab": {
          "base_uri": "https://localhost:8080/"
        },
        "id": "teNV6aySADkX",
        "outputId": "a779a1ba-33e6-481e-e7bb-ffa700b8654a"
      },
      "execution_count": 118,
      "outputs": [
        {
          "output_type": "stream",
          "name": "stdout",
          "text": [
            "Fitting 3 folds for each of 10 candidates, totalling 30 fits\n"
          ]
        },
        {
          "output_type": "execute_result",
          "data": {
            "text/plain": [
              "RandomizedSearchCV(cv=3, estimator=RandomForestRegressor(), n_jobs=-1,\n",
              "                   param_distributions={'max_depth': [5, 17, 30],\n",
              "                                        'max_features': ['auto', 'sqrt'],\n",
              "                                        'min_samples_split': [5, 15],\n",
              "                                        'n_estimators': [30, 86, 143, 200]},\n",
              "                   scoring='neg_mean_squared_error', verbose=2)"
            ]
          },
          "metadata": {},
          "execution_count": 118
        }
      ]
    },
    {
      "cell_type": "code",
      "source": [
        "y_pred = rf_random.best_estimator_.predict(X_test_scaled)\n",
        "errors = abs(y_pred - y_test_orig)\n",
        "mape = 100 - np.mean(100*(errors/y_test_orig))\n",
        "\n",
        "print(f'Best Hyperparameters : {rf_random.best_params_}')\n",
        "print(f'Test data RMSE       : {np.sqrt(mean_squared_error(y_test_orig, y_pred))}')\n",
        "print(f'Accuracy test data   : {mape:.2f}%')"
      ],
      "metadata": {
        "colab": {
          "base_uri": "https://localhost:8080/"
        },
        "id": "eEf4Ya2tIWLG",
        "outputId": "c2ee6a52-01af-4d15-83f8-34ee7dfe59dd"
      },
      "execution_count": 124,
      "outputs": [
        {
          "output_type": "stream",
          "name": "stdout",
          "text": [
            "Best Hyperparameters : {'n_estimators': 200, 'min_samples_split': 5, 'max_features': 'auto', 'max_depth': 5}\n",
            "Test data RMSE       : 66410.84166730306\n",
            "Accuracy test data   : 71.70%\n"
          ]
        }
      ]
    },
    {
      "cell_type": "code",
      "source": [
        "rf = RandomForestRegressor()\n",
        "rf.fit(X_train_scaled, y_train_orig)"
      ],
      "metadata": {
        "colab": {
          "base_uri": "https://localhost:8080/"
        },
        "id": "4Wxi07xpMZnQ",
        "outputId": "f6155345-6f4a-46d2-82e6-f0cbdc07c472"
      },
      "execution_count": 122,
      "outputs": [
        {
          "output_type": "execute_result",
          "data": {
            "text/plain": [
              "RandomForestRegressor()"
            ]
          },
          "metadata": {},
          "execution_count": 122
        }
      ]
    },
    {
      "cell_type": "code",
      "source": [
        "y_pred = rf.predict(X_test_scaled)\n",
        "errors = abs(y_pred - y_test_orig)\n",
        "mape = 100 - np.mean(100*(errors/y_test_orig))\n",
        "\n",
        "print(f'Test data RMSE       : {np.sqrt(mean_squared_error(y_test_orig, y_pred))}')\n",
        "print(f'Accuracy test data   : {mape:.2f}%')"
      ],
      "metadata": {
        "colab": {
          "base_uri": "https://localhost:8080/"
        },
        "id": "ZOBOCMswMeTN",
        "outputId": "500256c2-3551-4421-c2f2-9dcb0e90a2a1"
      },
      "execution_count": 123,
      "outputs": [
        {
          "output_type": "stream",
          "name": "stdout",
          "text": [
            "Test data RMSE       : 47466.964997855444\n",
            "Accuracy test data   : 83.62%\n"
          ]
        }
      ]
    },
    {
      "cell_type": "markdown",
      "source": [
        "I think the default parameters are the best or may be I need in searching CVs. But there is a great improvement from more than 70000 to 47000-48000 with mean value of 2 lakhs. There may be better models with XGBoost or with Neural Networks. "
      ],
      "metadata": {
        "id": "VBqkjX9YM4lj"
      }
    }
  ]
}